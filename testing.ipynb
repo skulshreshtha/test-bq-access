{
 "cells": [
  {
   "cell_type": "code",
   "execution_count": null,
   "metadata": {},
   "outputs": [],
   "source": [
    "import os"
   ]
  },
  {
   "cell_type": "code",
   "execution_count": null,
   "metadata": {},
   "outputs": [],
   "source": [
    "import google.auth\n",
    "from google.cloud import bigquery\n",
    "credentials, project = google.auth.default(\n",
    "    scopes=[\n",
    "        \"https://www.googleapis.com/auth/cloud-platform\",\n",
    "        \"https://www.googleapis.com/auth/drive\",\n",
    "        \"https://www.googleapis.com/auth/bigquery\",\n",
    "    ]\n",
    ")\n",
    "\n",
    "# Construct a BigQuery client object.\n",
    "bq_client = bigquery.Client(credentials=credentials, project=project)"
   ]
  },
  {
   "cell_type": "code",
   "execution_count": null,
   "metadata": {},
   "outputs": [],
   "source": [
    "import pandas as pd\n",
    "\n",
    "def get_ph_country(client: bigquery.client) -> pd.DataFrame:\n",
    "    \"\"\"\n",
    "    Fetches the printhouse country mapping\n",
    "    \"\"\"\n",
    "    query = \"\"\"\n",
    "    SELECT\n",
    "    network_print_house.name  AS print_house_name,\n",
    "    network_print_house.country_id  AS ph_country\n",
    "    FROM pgsql_printcloud_view.info_print_house  AS network_print_house\n",
    "    GROUP BY\n",
    "    1,\n",
    "    2\n",
    "    \"\"\"\n",
    "\n",
    "    query_job = client.query(query)  # Make an API request.\n",
    "\n",
    "    df = query_job.result().to_dataframe()\n",
    "\n",
    "    return df"
   ]
  },
  {
   "cell_type": "code",
   "execution_count": null,
   "metadata": {},
   "outputs": [],
   "source": [
    "df = get_ph_country(bq_client)"
   ]
  },
  {
   "cell_type": "code",
   "execution_count": null,
   "metadata": {},
   "outputs": [],
   "source": [
    "df.head()"
   ]
  }
 ],
 "metadata": {
  "kernelspec": {
   "display_name": ".venv",
   "language": "python",
   "name": "python3"
  },
  "language_info": {
   "codemirror_mode": {
    "name": "ipython",
    "version": 3
   },
   "file_extension": ".py",
   "mimetype": "text/x-python",
   "name": "python",
   "nbconvert_exporter": "python",
   "pygments_lexer": "ipython3",
   "version": "3.9.7"
  },
  "orig_nbformat": 4
 },
 "nbformat": 4,
 "nbformat_minor": 2
}
